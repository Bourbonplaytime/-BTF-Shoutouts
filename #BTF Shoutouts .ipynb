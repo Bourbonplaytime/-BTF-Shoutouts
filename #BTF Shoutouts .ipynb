{
 "cells": [
  {
   "cell_type": "code",
   "execution_count": 1,
   "metadata": {},
   "outputs": [],
   "source": [
    "import twitter\n",
    "import numpy as np\n",
    "from twitter_keys import CONSUMER_KEY, CONSUMER_SECRET, ACCESS_TOKEN, ACCESS_SECRET, Louisville_WOE_ID"
   ]
  },
  {
   "cell_type": "code",
   "execution_count": 2,
   "metadata": {},
   "outputs": [],
   "source": [
    "#Creates a twitter API connection\n",
    "auth = twitter.Api(consumer_key=CONSUMER_KEY,\n",
    "                consumer_secret=CONSUMER_SECRET,\n",
    "                access_token_key=ACCESS_TOKEN,\n",
    "                access_token_secret=ACCESS_SECRET)"
   ]
  },
  {
   "cell_type": "code",
   "execution_count": 3,
   "metadata": {},
   "outputs": [
    {
     "data": {
      "text/plain": [
       "['@Aug26A',\n",
       " '@ATStrike4',\n",
       " '@marcusntheville',\n",
       " '@CardsGonePro',\n",
       " '@TheBigRedLouie',\n",
       " '@bob_getz',\n",
       " '@penrod_diane',\n",
       " '@jake0335',\n",
       " '@kjminor23',\n",
       " '@Matthew_Russe11']"
      ]
     },
     "execution_count": 3,
     "metadata": {},
     "output_type": "execute_result"
    }
   ],
   "source": [
    "#Gets the members of a twitter list I created from the API\n",
    "status = auth.GetListMembersPaged(1086381095229247490, count=5000)\n",
    "\n",
    "#Creates 10 random ints between 0 and the length of the list the data was pulled from\n",
    "#The .GetListMembersPaged method returns a tuple but all the data of interest is in [2]\n",
    "mems = np.random.randint(len(status[2]), size=10)\n",
    "\n",
    "#Creates an empty list to store the 10 random members we want\n",
    "users = []\n",
    "\n",
    "#loop to pull 10 random members from status and append them to our users list\n",
    "for mem in mems:\n",
    "    users.append('@' + status[2][mem].screen_name)\n",
    "    \n",
    "#Display our users list\n",
    "users"
   ]
  },
  {
   "cell_type": "code",
   "execution_count": 4,
   "metadata": {},
   "outputs": [
    {
     "data": {
      "text/plain": [
       "Status(ID=1235613761341476865, ScreenName=BuildTheFlockUL, Created=Thu Mar 05 17:10:51 +0000 2020, Text='#BTF random shoutouts of the day: @Aug26A @ATStrike4 @marcusntheville @CardsGonePro @TheBigRedLouie @bob_getz… https://t.co/xapZwmeABW')"
      ]
     },
     "execution_count": 4,
     "metadata": {},
     "output_type": "execute_result"
    }
   ],
   "source": [
    "#Creates the message to be tweeted\n",
    "message = '#BTF random shoutouts of the day: ' + ' '.join(users)\n",
    "\n",
    "#Post the message\n",
    "auth.PostUpdate(message)"
   ]
  },
  {
   "cell_type": "code",
   "execution_count": 5,
   "metadata": {},
   "outputs": [
    {
     "data": {
      "text/plain": [
       "['Biden',\n",
       " 'Bernie',\n",
       " 'Warren',\n",
       " '#WeAreJCPS',\n",
       " '#jcpsdigin',\n",
       " 'Rupp',\n",
       " 'Democratic',\n",
       " 'POTUS',\n",
       " '#ThankYouElizabeth',\n",
       " '#PitMad']"
      ]
     },
     "execution_count": 5,
     "metadata": {},
     "output_type": "execute_result"
    }
   ],
   "source": [
    "#Gets all current trending topics for Louisville\n",
    "Trends = auth.GetTrendsWoeid(Louisville_WOE_ID)\n",
    "\n",
    "#Creates the number 0-9 in a list\n",
    "select = np.arange(10)\n",
    "\n",
    "#Creates an empty list for us to store the top 10 trending topics\n",
    "trend_list = []\n",
    "\n",
    "#Loop to get the top 10 trending topics and store them in trend_list\n",
    "for num in select:\n",
    "    trend_list.append(Trends[num].name)\n",
    "\n",
    "#Display trend_list\n",
    "trend_list"
   ]
  },
  {
   "cell_type": "code",
   "execution_count": 6,
   "metadata": {},
   "outputs": [
    {
     "data": {
      "text/plain": [
       "Status(ID=1235613762368999425, ScreenName=BuildTheFlockUL, Created=Thu Mar 05 17:10:52 +0000 2020, Text='Current top 10 trending in Louisville: Biden, Bernie, Warren, #WeAreJCPS, #jcpsdigin, Rupp, Democratic, POTUS, #ThankYouElizabeth, #PitMad')"
      ]
     },
     "execution_count": 6,
     "metadata": {},
     "output_type": "execute_result"
    }
   ],
   "source": [
    "#Creates our message to be tweeted\n",
    "trend_mes = \"Current top 10 trending in Louisville: \" + ', '.join(trend_list)\n",
    "\n",
    "#Tweets our message\n",
    "auth.PostUpdate(trend_mes)"
   ]
  },
  {
   "cell_type": "code",
   "execution_count": 12,
   "metadata": {},
   "outputs": [],
   "source": [
    "World_trends = auth.GetTrendsWoeid(1)\n",
    "\n",
    "def common(a, b):\n",
    "    c = [value for value in a if value in b]\n",
    "    return c\n",
    "\n",
    "trend_both = common(World_trends, Trends)\n",
    "\n",
    "com_trends = []\n",
    "\n",
    "for num in select:\n",
    "    if num < len(trend_both):\n",
    "        com_trends.append(trend_both[num].name)\n",
    "        \n",
    "common_message = \"These topics are trending both in Louisville and the World: \" + ' .'.join(com_trends)\n",
    "\n",
    "no_common = \"There are currently no topics trending both in Louisville and the World\"\n",
    "\n",
    "if com_trends != []:\n",
    "    auth.PostUpdate(common_message)\n",
    "else:\n",
    "    auth.PostUpdate(no_common)"
   ]
  },
  {
   "cell_type": "code",
   "execution_count": null,
   "metadata": {},
   "outputs": [],
   "source": []
  },
  {
   "cell_type": "code",
   "execution_count": null,
   "metadata": {},
   "outputs": [],
   "source": []
  }
 ],
 "metadata": {
  "kernelspec": {
   "display_name": "Python 3",
   "language": "python",
   "name": "python3"
  },
  "language_info": {
   "codemirror_mode": {
    "name": "ipython",
    "version": 3
   },
   "file_extension": ".py",
   "mimetype": "text/x-python",
   "name": "python",
   "nbconvert_exporter": "python",
   "pygments_lexer": "ipython3",
   "version": "3.7.4"
  }
 },
 "nbformat": 4,
 "nbformat_minor": 2
}
