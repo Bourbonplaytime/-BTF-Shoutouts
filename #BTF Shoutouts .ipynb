{
 "cells": [
  {
   "cell_type": "code",
   "execution_count": 1,
   "metadata": {},
   "outputs": [],
   "source": [
    "import twitter\n",
    "import numpy as np\n",
    "from twitter_keys import CONSUMER_KEY, CONSUMER_SECRET, ACCESS_TOKEN, ACCESS_SECRET, Louisville_WOE_ID"
   ]
  },
  {
   "cell_type": "code",
   "execution_count": 3,
   "metadata": {},
   "outputs": [],
   "source": [
    "auth = twitter.Api(consumer_key=CONSUMER_KEY,\n",
    "                consumer_secret=CONSUMER_SECRET,\n",
    "                access_token_key=ACCESS_TOKEN,\n",
    "                access_token_secret=ACCESS_SECRET)"
   ]
  },
  {
   "cell_type": "code",
   "execution_count": 3,
   "metadata": {},
   "outputs": [
    {
     "data": {
      "text/plain": [
       "['@SteelCard4life',\n",
       " '@HoodieCraig',\n",
       " '@shocker0129',\n",
       " '@StumpMark',\n",
       " '@VilleCardsFan',\n",
       " '@kendoll61',\n",
       " '@Bonefied108',\n",
       " '@Thetruefeny_t',\n",
       " '@blamkin86',\n",
       " '@Lisalaw113']"
      ]
     },
     "execution_count": 3,
     "metadata": {},
     "output_type": "execute_result"
    }
   ],
   "source": [
    "status = auth.GetListMembersPaged(1086381095229247490, count=5000)\n",
    "\n",
    "mems = np.random.randint(len(status[2]), size=10)\n",
    "\n",
    "users = []\n",
    "\n",
    "for mem in mems:\n",
    "    cards = status[2][mem]\n",
    "    users.append('@' + cards.screen_name)\n",
    "    \n",
    "users"
   ]
  },
  {
   "cell_type": "code",
   "execution_count": 4,
   "metadata": {},
   "outputs": [
    {
     "data": {
      "text/plain": [
       "Status(ID=1235263085188968448, ScreenName=BuildTheFlockUL, Created=Wed Mar 04 17:57:24 +0000 2020, Text='#BTF random shoutouts of the day: @SteelCard4life @HoodieCraig @shocker0129 @StumpMark @VilleCardsFan @kendoll61… https://t.co/7DW3GjgC5e')"
      ]
     },
     "execution_count": 4,
     "metadata": {},
     "output_type": "execute_result"
    }
   ],
   "source": [
    "message = '#BTF random shoutouts of the day: ' + ' '.join(users)\n",
    "\n",
    "auth.PostUpdate(message)"
   ]
  },
  {
   "cell_type": "code",
   "execution_count": 6,
   "metadata": {},
   "outputs": [
    {
     "data": {
      "text/plain": [
       "['Biden',\n",
       " 'Nashville',\n",
       " '#SuperTuesday',\n",
       " 'Warren',\n",
       " '#bestsummit',\n",
       " 'Batmobile',\n",
       " '#BlackSwan',\n",
       " '#WednesdayWisdom',\n",
       " '#KickItWithNCT127',\n",
       " 'Alex Trebek']"
      ]
     },
     "execution_count": 6,
     "metadata": {},
     "output_type": "execute_result"
    }
   ],
   "source": [
    "Trends = auth.GetTrendsWoeid(Louisville_WOE_ID)\n",
    "\n",
    "select = np.arange(10)\n",
    "\n",
    "trend_list = []\n",
    "\n",
    "for num in select:\n",
    "    trend_list.append(Trends[num].name)\n",
    "\n",
    "trend_list"
   ]
  },
  {
   "cell_type": "code",
   "execution_count": 12,
   "metadata": {},
   "outputs": [
    {
     "data": {
      "text/plain": [
       "Status(ID=1235280216139984898, ScreenName=BuildTheFlockUL, Created=Wed Mar 04 19:05:28 +0000 2020, Text='Currenntly trending in Louisville: Biden, Nashville, #SuperTuesday, Warren, #bestsummit, Batmobile, #BlackSwan,… https://t.co/uYsP8BeWeW')"
      ]
     },
     "execution_count": 12,
     "metadata": {},
     "output_type": "execute_result"
    }
   ],
   "source": [
    "trend_mes = \"Current top 10 trending in Louisville: \" + ', '.join(trend_list)\n",
    "\n",
    "auth.PostUpdate(trend_mes)"
   ]
  },
  {
   "cell_type": "code",
   "execution_count": null,
   "metadata": {},
   "outputs": [],
   "source": []
  }
 ],
 "metadata": {
  "kernelspec": {
   "display_name": "Python 3",
   "language": "python",
   "name": "python3"
  },
  "language_info": {
   "codemirror_mode": {
    "name": "ipython",
    "version": 3
   },
   "file_extension": ".py",
   "mimetype": "text/x-python",
   "name": "python",
   "nbconvert_exporter": "python",
   "pygments_lexer": "ipython3",
   "version": "3.7.4"
  }
 },
 "nbformat": 4,
 "nbformat_minor": 2
}
