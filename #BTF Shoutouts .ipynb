{
 "cells": [
  {
   "cell_type": "code",
   "execution_count": 1,
   "metadata": {},
   "outputs": [],
   "source": [
    "import twitter\n",
    "import numpy as np\n",
    "from twitter_keys import CONSUMER_KEY, CONSUMER_SECRET, ACCESS_TOKEN, ACCESS_SECRET"
   ]
  },
  {
   "cell_type": "code",
   "execution_count": 2,
   "metadata": {},
   "outputs": [
    {
     "data": {
      "text/plain": [
       "<twitter.api.Api at 0x1d12324b508>"
      ]
     },
     "execution_count": 2,
     "metadata": {},
     "output_type": "execute_result"
    }
   ],
   "source": [
    "auth = twitter.Api(consumer_key=CONSUMER_KEY,\n",
    "                consumer_secret=CONSUMER_SECRET,\n",
    "                access_token_key=ACCESS_TOKEN,\n",
    "                access_token_secret=ACCESS_SECRET)"
   ]
  },
  {
   "cell_type": "code",
   "execution_count": 3,
   "metadata": {},
   "outputs": [
    {
     "data": {
      "text/plain": [
       "['@I_Am_Sanders',\n",
       " '@ahiggcardsfan',\n",
       " '@DavidRo00928706',\n",
       " '@meredithwled',\n",
       " '@TMo4Cards',\n",
       " '@itsricklol',\n",
       " '@IamMrJeffries',\n",
       " '@TimHaizlip',\n",
       " '@card_sharp72',\n",
       " '@theville71']"
      ]
     },
     "execution_count": 3,
     "metadata": {},
     "output_type": "execute_result"
    }
   ],
   "source": [
    "status = auth.GetListMembersPaged(1086381095229247490, count=5000)\n",
    "\n",
    "mems = np.random.randint(len(status[2]), size=10)\n",
    "\n",
    "users = []\n",
    "\n",
    "for mem in mems:\n",
    "    cards = status[2][mem]\n",
    "    users.append('@' + cards.screen_name)\n",
    "    \n",
    "users"
   ]
  },
  {
   "cell_type": "code",
   "execution_count": 4,
   "metadata": {},
   "outputs": [],
   "source": [
    "message = '#BTF ' + ' '.join(users)\n",
    "\n",
    "auth.PostUpdate(message)"
   ]
  },
  {
   "cell_type": "code",
   "execution_count": 5,
   "metadata": {},
   "outputs": [],
   "source": [
    "auth.PostUpdate(\"These shoutouts are a random selection from my twitter list #BTF. If you'd like to be added to the pool to \" +\n",
    "                \"be in future shoutouts just follow me and I'll add you or drop me an @ if by some chance you're followed \" +\n",
    "                \"and I missed you. #GoCards\")"
   ]
  },
  {
   "cell_type": "code",
   "execution_count": null,
   "metadata": {},
   "outputs": [],
   "source": []
  }
 ],
 "metadata": {
  "kernelspec": {
   "display_name": "Python 3",
   "language": "python",
   "name": "python3"
  },
  "language_info": {
   "codemirror_mode": {
    "name": "ipython",
    "version": 3
   },
   "file_extension": ".py",
   "mimetype": "text/x-python",
   "name": "python",
   "nbconvert_exporter": "python",
   "pygments_lexer": "ipython3",
   "version": "3.7.4"
  }
 },
 "nbformat": 4,
 "nbformat_minor": 2
}
