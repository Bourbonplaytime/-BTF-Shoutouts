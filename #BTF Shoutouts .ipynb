{
 "cells": [
  {
   "cell_type": "code",
   "execution_count": 1,
   "metadata": {},
   "outputs": [],
   "source": [
    "import twitter\n",
    "import numpy as np\n",
    "from twitter_keys import CONSUMER_KEY, CONSUMER_SECRET, ACCESS_TOKEN, ACCESS_SECRET, Louisville_WOE_ID"
   ]
  },
  {
   "cell_type": "code",
   "execution_count": 2,
   "metadata": {},
   "outputs": [],
   "source": [
    "#Creates a twitter API connection\n",
    "auth = twitter.Api(consumer_key=CONSUMER_KEY,\n",
    "                consumer_secret=CONSUMER_SECRET,\n",
    "                access_token_key=ACCESS_TOKEN,\n",
    "                access_token_secret=ACCESS_SECRET)"
   ]
  },
  {
   "cell_type": "code",
   "execution_count": 3,
   "metadata": {},
   "outputs": [
    {
     "data": {
      "text/plain": [
       "['@cardsbaybee',\n",
       " '@baseboy124',\n",
       " '@crashcraddock11',\n",
       " '@Devinperkins17',\n",
       " '@WILLIAM88209015',\n",
       " '@ulbooch502',\n",
       " '@L1C4PEDIGO',\n",
       " '@Kevinlo34829567',\n",
       " '@BillBla57719540',\n",
       " '@louisb1970']"
      ]
     },
     "execution_count": 3,
     "metadata": {},
     "output_type": "execute_result"
    }
   ],
   "source": [
    "#Gets the members of a twitter list I created from the API\n",
    "status = auth.GetListMembersPaged(1086381095229247490, count=5000)\n",
    "\n",
    "#Creates 10 random ints between 0 and the length of the list the data was pulled from\n",
    "#The .GetListMembersPaged method returns a tuple but all the data of interest is in [2]\n",
    "mems = np.random.randint(len(status[2]), size=10)\n",
    "\n",
    "#Creates an empty list to store the 10 random members we want\n",
    "users = []\n",
    "\n",
    "#loop to pull 10 random members from status and append them to our users list\n",
    "for mem in mems:\n",
    "    users.append('@' + status[2][mem].screen_name)\n",
    "    \n",
    "#Display our users list\n",
    "users"
   ]
  },
  {
   "cell_type": "code",
   "execution_count": 4,
   "metadata": {},
   "outputs": [
    {
     "data": {
      "text/plain": [
       "Status(ID=1235370241678442497, ScreenName=BuildTheFlockUL, Created=Thu Mar 05 01:03:12 +0000 2020, Text='#BTF random shoutouts of the day: @cardsbaybee @baseboy124 @crashcraddock11 @Devinperkins17 @WILLIAM88209015… https://t.co/iWzxHD0DHX')"
      ]
     },
     "execution_count": 4,
     "metadata": {},
     "output_type": "execute_result"
    }
   ],
   "source": [
    "#Creates the message to be tweeted\n",
    "message = '#BTF random shoutouts of the day: ' + ' '.join(users)\n",
    "\n",
    "#Post the message\n",
    "auth.PostUpdate(message)"
   ]
  },
  {
   "cell_type": "code",
   "execution_count": 16,
   "metadata": {},
   "outputs": [
    {
     "data": {
      "text/plain": [
       "['Biden',\n",
       " '#SuperTuesday',\n",
       " 'Warren',\n",
       " '#bestsummit',\n",
       " 'Hagans',\n",
       " '#AEWDynamite',\n",
       " '#RIPTwitter',\n",
       " 'Schumer',\n",
       " '#MakeTrumpNervousIn4Words',\n",
       " 'Tom Wilson']"
      ]
     },
     "execution_count": 16,
     "metadata": {},
     "output_type": "execute_result"
    }
   ],
   "source": [
    "#Gets all current trending topics for Louisville\n",
    "Trends = auth.GetTrendsWoeid(Louisville_WOE_ID)\n",
    "\n",
    "#Creates the number 0-9 in a list\n",
    "select = np.arange(10)\n",
    "\n",
    "#Creates an empty list for us to store the top 10 trending topics\n",
    "trend_list = []\n",
    "\n",
    "#Loop to get the top 10 trending topics and store them in trend_list\n",
    "for num in select:\n",
    "    trend_list.append(Trends[num].name)\n",
    "\n",
    "#Display trend_list\n",
    "trend_list"
   ]
  },
  {
   "cell_type": "code",
   "execution_count": 6,
   "metadata": {},
   "outputs": [
    {
     "data": {
      "text/plain": [
       "Status(ID=1235370242785914881, ScreenName=BuildTheFlockUL, Created=Thu Mar 05 01:03:12 +0000 2020, Text='Current top 10 trending in Louisville: Biden, #SuperTuesday, #BestSummit, Hagans, Schumer, #RIPTwitter, Roberts,… https://t.co/lrQZkzJhFG')"
      ]
     },
     "execution_count": 6,
     "metadata": {},
     "output_type": "execute_result"
    }
   ],
   "source": [
    "#Creates our message to be tweeted\n",
    "trend_mes = \"Current top 10 trending in Louisville: \" + ', '.join(trend_list)\n",
    "\n",
    "#Tweets our message\n",
    "auth.PostUpdate(trend_mes)"
   ]
  },
  {
   "cell_type": "code",
   "execution_count": 22,
   "metadata": {},
   "outputs": [
    {
     "data": {
      "text/plain": [
       "[Trend(Name='#RIPTwitter', Time=2020-03-05T02:06:46Z, URL=http://twitter.com/search?q=%23RIPTwitter),\n",
       " Trend(Name='#AEWDynamite', Time=2020-03-05T02:06:46Z, URL=http://twitter.com/search?q=%23AEWDynamite),\n",
       " Trend(Name='#TheMaskedSinger', Time=2020-03-05T02:06:46Z, URL=http://twitter.com/search?q=%23TheMaskedSinger),\n",
       " Trend(Name='Schumer', Time=2020-03-05T02:06:46Z, URL=http://twitter.com/search?q=Schumer),\n",
       " Trend(Name='#MakeTrumpNervousIn4Words', Time=2020-03-05T02:06:46Z, URL=http://twitter.com/search?q=%23MakeTrumpNervousIn4Words),\n",
       " Trend(Name='Tom Wilson', Time=2020-03-05T02:06:46Z, URL=http://twitter.com/search?q=%22Tom+Wilson%22),\n",
       " Trend(Name='Roberts', Time=2020-03-05T02:06:46Z, URL=http://twitter.com/search?q=Roberts),\n",
       " Trend(Name='Eric Dier', Time=2020-03-05T02:06:46Z, URL=http://twitter.com/search?q=%22Eric+Dier%22),\n",
       " Trend(Name='Kavanaugh', Time=2020-03-05T02:06:46Z, URL=http://twitter.com/search?q=Kavanaugh),\n",
       " Trend(Name='#SurvivorWinnersAtWar', Time=2020-03-05T02:06:46Z, URL=http://twitter.com/search?q=%23SurvivorWinnersAtWar),\n",
       " Trend(Name='#VolcanoLivewithNikWallenda', Time=2020-03-05T02:06:46Z, URL=http://twitter.com/search?q=%23VolcanoLivewithNikWallenda),\n",
       " Trend(Name='#Coronvirus', Time=2020-03-05T02:06:46Z, URL=http://twitter.com/search?q=%23Coronvirus),\n",
       " Trend(Name='#RHONJReunion', Time=2020-03-05T02:06:46Z, URL=http://twitter.com/search?q=%23RHONJReunion),\n",
       " Trend(Name='#ChicagoMed', Time=2020-03-05T02:06:46Z, URL=http://twitter.com/search?q=%23ChicagoMed),\n",
       " Trend(Name='#my600lblife', Time=2020-03-05T02:06:46Z, URL=http://twitter.com/search?q=%23my600lblife),\n",
       " Trend(Name='#PHIvsWSH', Time=2020-03-05T02:06:46Z, URL=http://twitter.com/search?q=%23PHIvsWSH),\n",
       " Trend(Name='#MattGaetzIsATool', Time=2020-03-05T02:06:46Z, URL=http://twitter.com/search?q=%23MattGaetzIsATool)]"
      ]
     },
     "execution_count": 22,
     "metadata": {},
     "output_type": "execute_result"
    }
   ],
   "source": [
    "Trends = auth.GetTrendsWoeid(Louisville_WOE_ID)\n",
    "\n",
    "World_trends = auth.GetTrendsWoeid(1)\n",
    "\n",
    "def common(a, b):\n",
    "    c = [value for value in a if value in b]\n",
    "    return c\n",
    "\n",
    "d = common(World_trends, Trends)\n",
    "\n",
    "d"
   ]
  },
  {
   "cell_type": "code",
   "execution_count": null,
   "metadata": {},
   "outputs": [],
   "source": []
  }
 ],
 "metadata": {
  "kernelspec": {
   "display_name": "Python 3",
   "language": "python",
   "name": "python3"
  },
  "language_info": {
   "codemirror_mode": {
    "name": "ipython",
    "version": 3
   },
   "file_extension": ".py",
   "mimetype": "text/x-python",
   "name": "python",
   "nbconvert_exporter": "python",
   "pygments_lexer": "ipython3",
   "version": "3.7.4"
  }
 },
 "nbformat": 4,
 "nbformat_minor": 2
}
