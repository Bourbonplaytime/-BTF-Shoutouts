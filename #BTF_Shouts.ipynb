{
 "cells": [
  {
   "cell_type": "code",
   "execution_count": 21,
   "metadata": {},
   "outputs": [],
   "source": [
    "import twitter\n",
    "import numpy as np\n",
    "import random\n",
    "from twitter_keys import CONSUMER_KEY, CONSUMER_SECRET, ACCESS_TOKEN, ACCESS_SECRET, Louisville_WOE_ID"
   ]
  },
  {
   "cell_type": "code",
   "execution_count": 12,
   "metadata": {},
   "outputs": [],
   "source": [
    "#Creates a twitter API connection\n",
    "auth = twitter.Api(consumer_key=CONSUMER_KEY,\n",
    "                consumer_secret=CONSUMER_SECRET,\n",
    "                access_token_key=ACCESS_TOKEN,\n",
    "                access_token_secret=ACCESS_SECRET)"
   ]
  },
  {
   "cell_type": "code",
   "execution_count": 25,
   "metadata": {},
   "outputs": [
    {
     "data": {
      "text/plain": [
       "['@ashdawn614',\n",
       " '@KdawnBritt',\n",
       " '@CottrellMandy',\n",
       " '@The_Villenut',\n",
       " '@danielfarish',\n",
       " '@502card',\n",
       " '@mandyaja727',\n",
       " '@DrSteveGriffin1',\n",
       " '@K_Geezy74',\n",
       " '@punkingirl138',\n",
       " '@jdhard03_L1C4',\n",
       " '@UOFLFAN35',\n",
       " '@mcville83',\n",
       " '@2013CardsBanner',\n",
       " '@XxBookerPxX',\n",
       " '@CisCoLXIX',\n",
       " '@replouisville',\n",
       " '@greywoolhat',\n",
       " '@CammyLuvsUofL',\n",
       " '@DatBeachBoy',\n",
       " '@CardsfanTrue',\n",
       " '@uljimmy',\n",
       " '@syimonphilipp',\n",
       " '@ADennis5421',\n",
       " '@DerrickM2619']"
      ]
     },
     "execution_count": 25,
     "metadata": {},
     "output_type": "execute_result"
    }
   ],
   "source": [
    "#Gets the members of a twitter list I created from the API\n",
    "status = auth.GetListMembersPaged(1086381095229247490, count=2500)\n",
    "\n",
    "#Creates 25 random ints between 0 and the length of the list the data was pulled from\n",
    "#The .GetListMembersPaged method returns a tuple but all the data of interest is in [2]\n",
    "mems = random.sample(range(0, len(status[2])), 25)\n",
    "\n",
    "#Creates an empty list to store the 25 random members we want\n",
    "users = []\n",
    "\n",
    "#loop to pull 25 random members from status and append them to our users list\n",
    "for mem in mems:\n",
    "    users.append('@' + status[2][mem].screen_name)\n",
    "    \n",
    "#Display our users list\n",
    "users"
   ]
  },
  {
   "cell_type": "code",
   "execution_count": 14,
   "metadata": {},
   "outputs": [
    {
     "data": {
      "text/plain": [
       "Status(ID=1237403697665183745, ScreenName=BuildTheFlockUL, Created=Tue Mar 10 15:43:26 +0000 2020, Text='#BTF random shoutouts of the day: @BLIZAIR @JuanGeuse @CRforCards @Shuffcard @jmancardsfan @GoCards23_Hume… https://t.co/GX5GlMroKL')"
      ]
     },
     "execution_count": 14,
     "metadata": {},
     "output_type": "execute_result"
    }
   ],
   "source": [
    "#Creates the messages to be tweeted\n",
    "message = '#BTF random shoutouts of the day: ' + ' '.join(users[0:10])\n",
    "\n",
    "message2 = '#BTF random shoutouts of the day: ' + ' '.join(users[10:20])\n",
    "\n",
    "message3 = '#BTF random shoutouts of the day: ' + ' '.join(users[20:25])\n",
    "\n",
    "#Post the messages\n",
    "auth.PostUpdate(message)\n",
    "\n",
    "auth.PostUpdate(message2)\n",
    "\n",
    "auth.PostUpdate(message3)"
   ]
  },
  {
   "cell_type": "code",
   "execution_count": 16,
   "metadata": {},
   "outputs": [
    {
     "data": {
      "text/plain": [
       "['#TheBachelor',\n",
       " 'COVID-19',\n",
       " '#coronavirus',\n",
       " '#wakeup11',\n",
       " '#Bernie2020',\n",
       " 'Medicare',\n",
       " 'harrison county',\n",
       " '#MAR10Day',\n",
       " 'Madden',\n",
       " 'AR-14']"
      ]
     },
     "execution_count": 16,
     "metadata": {},
     "output_type": "execute_result"
    }
   ],
   "source": [
    "#Gets all current trending topics for Louisville\n",
    "Trends = auth.GetTrendsWoeid(Louisville_WOE_ID)\n",
    "\n",
    "#Creates the number 0-9 in a list\n",
    "select = np.arange(10)\n",
    "\n",
    "#Creates an empty list for us to store the top 10 trending topics\n",
    "trend_list = []\n",
    "\n",
    "#Loop to get the top 10 trending topics and store them in trend_list\n",
    "for num in select:\n",
    "    trend_list.append(Trends[num].name)\n",
    "\n",
    "#Display trend_list\n",
    "trend_list"
   ]
  },
  {
   "cell_type": "code",
   "execution_count": 17,
   "metadata": {},
   "outputs": [
    {
     "data": {
      "text/plain": [
       "Status(ID=1237404158413635584, ScreenName=BuildTheFlockUL, Created=Tue Mar 10 15:45:15 +0000 2020, Text='Current top 10 trending in Louisville: #TheBachelor, COVID-19, #coronavirus, #wakeup11, #Bernie2020, Medicare, harr… https://t.co/87Cjah4jSa')"
      ]
     },
     "execution_count": 17,
     "metadata": {},
     "output_type": "execute_result"
    }
   ],
   "source": [
    "#Creates our message to be tweeted\n",
    "trend_mes = \"Current top 10 trending in Louisville: \" + ', '.join(trend_list)\n",
    "\n",
    "#Tweets our message\n",
    "auth.PostUpdate(trend_mes)"
   ]
  },
  {
   "cell_type": "code",
   "execution_count": 18,
   "metadata": {},
   "outputs": [
    {
     "data": {
      "text/plain": [
       "[Trend(Name='#恋つづ', Time=2020-03-10T15:45:17Z, URL=http://twitter.com/search?q=%23%E6%81%8B%E3%81%A4%E3%81%A5),\n",
       " Trend(Name='#드림에게도_소중한_꿈', Time=2020-03-10T15:45:17Z, URL=http://twitter.com/search?q=%23%EB%93%9C%EB%A6%BC%EC%97%90%EA%B2%8C%EB%8F%84_%EC%86%8C%EC%A4%91%ED%95%9C_%EA%BF%88),\n",
       " Trend(Name='#kuizyお絵描き診断', Time=2020-03-10T15:45:17Z, URL=http://twitter.com/search?q=%23kuizy%E3%81%8A%E7%B5%B5%E6%8F%8F%E3%81%8D%E8%A8%BA%E6%96%AD),\n",
       " Trend(Name='#三角形でわかる精神年齢', Time=2020-03-10T15:45:17Z, URL=http://twitter.com/search?q=%23%E4%B8%89%E8%A7%92%E5%BD%A2%E3%81%A7%E3%82%8F%E3%81%8B%E3%82%8B%E7%B2%BE%E7%A5%9E%E5%B9%B4%E9%BD%A2),\n",
       " Trend(Name='Ortega Smith', Time=2020-03-10T15:45:17Z, URL=http://twitter.com/search?q=%22Ortega+Smith%22),\n",
       " Trend(Name='#めけぽんビンゴ', Time=2020-03-10T15:45:17Z, URL=http://twitter.com/search?q=%23%E3%82%81%E3%81%91%E3%81%BD%E3%82%93%E3%83%93%E3%83%B3%E3%82%B4),\n",
       " Trend(Name='Madden', Time=2020-03-10T15:45:17Z, URL=http://twitter.com/search?q=Madden),\n",
       " Trend(Name='sampiyonlarligi betasusta', Time=2020-03-10T15:45:17Z, URL=http://twitter.com/search?q=%22sampiyonlarligi+betasusta%22),\n",
       " Trend(Name='あなたの心理状態', Time=2020-03-10T15:45:17Z, URL=http://twitter.com/search?q=%E3%81%82%E3%81%AA%E3%81%9F%E3%81%AE%E5%BF%83%E7%90%86%E7%8A%B6%E6%85%8B),\n",
       " Trend(Name='AR-14', Time=2020-03-10T15:45:17Z, URL=http://twitter.com/search?q=AR-14),\n",
       " Trend(Name='Visconde de Sabubrocha', Time=2020-03-10T15:45:17Z, URL=http://twitter.com/search?q=%22Visconde+de+Sabubrocha%22),\n",
       " Trend(Name='Chuck Norris', Time=2020-03-10T15:45:17Z, URL=http://twitter.com/search?q=%22Chuck+Norris%22),\n",
       " Trend(Name='부직샵', Time=2020-03-10T15:45:17Z, URL=http://twitter.com/search?q=%EB%B6%80%EC%A7%81%EC%83%B5),\n",
       " Trend(Name='理想のキス', Time=2020-03-10T15:45:17Z, URL=http://twitter.com/search?q=%E7%90%86%E6%83%B3%E3%81%AE%E3%82%AD%E3%82%B9),\n",
       " Trend(Name='Ollie', Time=2020-03-10T15:45:17Z, URL=http://twitter.com/search?q=Ollie),\n",
       " Trend(Name='うまかっちゃん', Time=2020-03-10T15:45:17Z, URL=http://twitter.com/search?q=%E3%81%86%E3%81%BE%E3%81%8B%E3%81%A3%E3%81%A1%E3%82%83%E3%82%93),\n",
       " Trend(Name='şampiyonlarligi betmarloda', Time=2020-03-10T15:45:17Z, URL=http://twitter.com/search?q=%22%C5%9Fampiyonlarligi+betmarloda%22),\n",
       " Trend(Name='#推しがちなキャラクターの特徴', Time=2020-03-10T15:45:17Z, URL=http://twitter.com/search?q=%23%E6%8E%A8%E3%81%97%E3%81%8C%E3%81%A1%E3%81%AA%E3%82%AD%E3%83%A3%E3%83%A9%E3%82%AF%E3%82%BF%E3%83%BC%E3%81%AE%E7%89%B9%E5%BE%B4),\n",
       " Trend(Name='#FelizMartes', Time=2020-03-10T15:45:17Z, URL=http://twitter.com/search?q=%23FelizMartes),\n",
       " Trend(Name='#メンテの日なのでssを貼る', Time=2020-03-10T15:45:17Z, URL=http://twitter.com/search?q=%23%E3%83%A1%E3%83%B3%E3%83%86%E3%81%AE%E6%97%A5%E3%81%AA%E3%81%AE%E3%81%A7ss%E3%82%92%E8%B2%BC%E3%82%8B),\n",
       " Trend(Name='#TWBASB19Alab', Time=2020-03-10T15:45:17Z, URL=http://twitter.com/search?q=%23TWBASB19Alab),\n",
       " Trend(Name='#子供の頃の勘違いをあえて言おう', Time=2020-03-10T15:45:17Z, URL=http://twitter.com/search?q=%23%E5%AD%90%E4%BE%9B%E3%81%AE%E9%A0%83%E3%81%AE%E5%8B%98%E9%81%95%E3%81%84%E3%82%92%E3%81%82%E3%81%88%E3%81%A6%E8%A8%80%E3%81%8A%E3%81%86),\n",
       " Trend(Name='#MAR10Day', Time=2020-03-10T15:45:17Z, URL=http://twitter.com/search?q=%23MAR10Day),\n",
       " Trend(Name='#BernieSurge', Time=2020-03-10T15:45:17Z, URL=http://twitter.com/search?q=%23BernieSurge),\n",
       " Trend(Name='#LQvPZ', Time=2020-03-10T15:45:17Z, URL=http://twitter.com/search?q=%23LQvPZ),\n",
       " Trend(Name='#HoweAwardsxMG', Time=2020-03-10T15:45:17Z, URL=http://twitter.com/search?q=%23HoweAwardsxMG),\n",
       " Trend(Name='#EraLulaNo1Turno', Time=2020-03-10T15:45:17Z, URL=http://twitter.com/search?q=%23EraLulaNo1Turno),\n",
       " Trend(Name='#เล่ห์บรรพกาลEP3', Time=2020-03-10T15:45:17Z, URL=http://twitter.com/search?q=%23%E0%B9%80%E0%B8%A5%E0%B9%88%E0%B8%AB%E0%B9%8C%E0%B8%9A%E0%B8%A3%E0%B8%A3%E0%B8%9E%E0%B8%81%E0%B8%B2%E0%B8%A5EP3),\n",
       " Trend(Name='#ธนาธร', Time=2020-03-10T15:45:17Z, URL=http://twitter.com/search?q=%23%E0%B8%98%E0%B8%99%E0%B8%B2%E0%B8%98%E0%B8%A3),\n",
       " Trend(Name='#MattGaetzIsAQuarantinedTool', Time=2020-03-10T15:45:17Z, URL=http://twitter.com/search?q=%23MattGaetzIsAQuarantinedTool),\n",
       " Trend(Name='#このタグを見た人は習い事歴を晒せ', Time=2020-03-10T15:45:17Z, URL=http://twitter.com/search?q=%23%E3%81%93%E3%81%AE%E3%82%BF%E3%82%B0%E3%82%92%E8%A6%8B%E3%81%9F%E4%BA%BA%E3%81%AF%E7%BF%92%E3%81%84%E4%BA%8B%E6%AD%B4%E3%82%92%E6%99%92%E3%81%9B),\n",
       " Trend(Name='#دمعتك_يامويد_هزت_قلوبنا', Time=2020-03-10T15:45:17Z, URL=http://twitter.com/search?q=%23%D8%AF%D9%85%D8%B9%D8%AA%D9%83_%D9%8A%D8%A7%D9%85%D9%88%D9%8A%D8%AF_%D9%87%D8%B2%D8%AA_%D9%82%D9%84%D9%88%D8%A8%D9%86%D8%A7),\n",
       " Trend(Name='#มาร์คหล่อแค่ไหน', Time=2020-03-10T15:45:17Z, URL=http://twitter.com/search?q=%23%E0%B8%A1%E0%B8%B2%E0%B8%A3%E0%B9%8C%E0%B8%84%E0%B8%AB%E0%B8%A5%E0%B9%88%E0%B8%AD%E0%B9%81%E0%B8%84%E0%B9%88%E0%B9%84%E0%B8%AB%E0%B8%99),\n",
       " Trend(Name='#TuesdayThoughts', Time=2020-03-10T15:45:17Z, URL=http://twitter.com/search?q=%23TuesdayThoughts),\n",
       " Trend(Name='#عطاله_اطبا_الاسنان_ياولي_العهد', Time=2020-03-10T15:45:17Z, URL=http://twitter.com/search?q=%23%D8%B9%D8%B7%D8%A7%D9%84%D9%87_%D8%A7%D8%B7%D8%A8%D8%A7_%D8%A7%D9%84%D8%A7%D8%B3%D9%86%D8%A7%D9%86_%D9%8A%D8%A7%D9%88%D9%84%D9%8A_%D8%A7%D9%84%D8%B9%D9%87%D8%AF),\n",
       " Trend(Name='#onceselcaday', Time=2020-03-10T15:45:17Z, URL=http://twitter.com/search?q=%23onceselcaday),\n",
       " Trend(Name='#승우야_너의_인생을_응원해', Time=2020-03-10T15:45:17Z, URL=http://twitter.com/search?q=%23%EC%8A%B9%EC%9A%B0%EC%95%BC_%EB%84%88%EC%9D%98_%EC%9D%B8%EC%83%9D%EC%9D%84_%EC%9D%91%EC%9B%90%ED%95%B4),\n",
       " Trend(Name='#SiJetaisMarioJe', Time=2020-03-10T15:45:17Z, URL=http://twitter.com/search?q=%23SiJetaisMarioJe),\n",
       " Trend(Name='#cheltenham2020', Time=2020-03-10T15:45:17Z, URL=http://twitter.com/search?q=%23cheltenham2020),\n",
       " Trend(Name='#اتق_الله_في_بنات_الناس', Time=2020-03-10T15:45:17Z, URL=http://twitter.com/search?q=%23%D8%A7%D8%AA%D9%82_%D8%A7%D9%84%D9%84%D9%87_%D9%81%D9%8A_%D8%A8%D9%86%D8%A7%D8%AA_%D8%A7%D9%84%D9%86%D8%A7%D8%B3),\n",
       " Trend(Name='#VaathiComing', Time=2020-03-10T15:45:17Z, URL=http://twitter.com/search?q=%23VaathiComing),\n",
       " Trend(Name='#マツコの知らない世界', Time=2020-03-10T15:45:17Z, URL=http://twitter.com/search?q=%23%E3%83%9E%E3%83%84%E3%82%B3%E3%81%AE%E7%9F%A5%E3%82%89%E3%81%AA%E3%81%84%E4%B8%96%E7%95%8C),\n",
       " Trend(Name='#東日本大震災から9年', Time=2020-03-10T15:45:17Z, URL=http://twitter.com/search?q=%23%E6%9D%B1%E6%97%A5%E6%9C%AC%E5%A4%A7%E9%9C%87%E7%81%BD%E3%81%8B%E3%82%899%E5%B9%B4),\n",
       " Trend(Name='#คั่นกูMV', Time=2020-03-10T15:45:17Z, URL=http://twitter.com/search?q=%23%E0%B8%84%E0%B8%B1%E0%B9%88%E0%B8%99%E0%B8%81%E0%B8%B9MV),\n",
       " Trend(Name='#FKocaSağlıkçıyaMarttaAtama', Time=2020-03-10T15:45:17Z, URL=http://twitter.com/search?q=%23FKocaSa%C4%9Fl%C4%B1k%C3%A7%C4%B1yaMarttaAtama),\n",
       " Trend(Name='#UbuhanSiDuterte', Time=2020-03-10T15:45:17Z, URL=http://twitter.com/search?q=%23UbuhanSiDuterte),\n",
       " Trend(Name='#BidensCognitiveDecline', Time=2020-03-10T15:45:17Z, URL=http://twitter.com/search?q=%23BidensCognitiveDecline),\n",
       " Trend(Name='#DirectoAcademia10M', Time=2020-03-10T15:45:17Z, URL=http://twitter.com/search?q=%23DirectoAcademia10M),\n",
       " Trend(Name='#녕긔안긔_첫접촉_1주년', Time=2020-03-10T15:45:17Z, URL=http://twitter.com/search?q=%23%EB%85%95%EA%B8%94%EC%95%88%EA%B8%94_%EC%B2%AB%EC%A0%91%EC%B4%89_1%EC%A3%BC%EB%85%84),\n",
       " Trend(Name='#金田木村と夜あそび', Time=2020-03-10T15:45:17Z, URL=http://twitter.com/search?q=%23%E9%87%91%E7%94%B0%E6%9C%A8%E6%9D%91%E3%81%A8%E5%A4%9C%E3%81%82%E3%81%9D%E3%81%B3)]"
      ]
     },
     "execution_count": 18,
     "metadata": {},
     "output_type": "execute_result"
    }
   ],
   "source": [
    "World_trends = auth.GetTrendsWoeid(1)\n",
    "\n",
    "def common(a, b):\n",
    "    c = [value for value in a if value in b]\n",
    "    return c\n",
    "\n",
    "trend_both = common(World_trends, Trends)\n",
    "\n",
    "com_trends = []\n",
    "\n",
    "for num in select:\n",
    "    if num < len(trend_both):\n",
    "        com_trends.append(trend_both[num].name)\n",
    "        \n",
    "common_message = \"These topics are trending both in Louisville and the World: \" + ', '.join(com_trends)\n",
    "\n",
    "no_common = \"There are currently no topics trending both in Louisville and the World\"\n",
    "\n",
    "World_trends"
   ]
  },
  {
   "cell_type": "code",
   "execution_count": 19,
   "metadata": {},
   "outputs": [
    {
     "data": {
      "text/plain": [
       "[]"
      ]
     },
     "execution_count": 19,
     "metadata": {},
     "output_type": "execute_result"
    }
   ],
   "source": [
    "com_trends"
   ]
  },
  {
   "cell_type": "code",
   "execution_count": 20,
   "metadata": {},
   "outputs": [],
   "source": [
    "if com_trends == []:\n",
    "    auth.PostUpdate(no_common)\n",
    "else:\n",
    "    auth.PostUpdate(common_message)"
   ]
  },
  {
   "cell_type": "code",
   "execution_count": null,
   "metadata": {},
   "outputs": [],
   "source": []
  }
 ],
 "metadata": {
  "kernelspec": {
   "display_name": "Python 3",
   "language": "python",
   "name": "python3"
  },
  "language_info": {
   "codemirror_mode": {
    "name": "ipython",
    "version": 3
   },
   "file_extension": ".py",
   "mimetype": "text/x-python",
   "name": "python",
   "nbconvert_exporter": "python",
   "pygments_lexer": "ipython3",
   "version": "3.7.4"
  }
 },
 "nbformat": 4,
 "nbformat_minor": 2
}
