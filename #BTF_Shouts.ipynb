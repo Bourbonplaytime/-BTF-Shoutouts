{
 "cells": [
  {
   "cell_type": "code",
   "execution_count": 1,
   "metadata": {},
   "outputs": [],
   "source": [
    "import twitter\n",
    "import numpy as np\n",
    "from twitter_keys import CONSUMER_KEY, CONSUMER_SECRET, ACCESS_TOKEN, ACCESS_SECRET, Louisville_WOE_ID"
   ]
  },
  {
   "cell_type": "code",
   "execution_count": 2,
   "metadata": {},
   "outputs": [],
   "source": [
    "#Creates a twitter API connection\n",
    "auth = twitter.Api(consumer_key=CONSUMER_KEY,\n",
    "                consumer_secret=CONSUMER_SECRET,\n",
    "                access_token_key=ACCESS_TOKEN,\n",
    "                access_token_secret=ACCESS_SECRET)"
   ]
  },
  {
   "cell_type": "code",
   "execution_count": 3,
   "metadata": {},
   "outputs": [
    {
     "data": {
      "text/plain": [
       "['@Aug26A',\n",
       " '@ATStrike4',\n",
       " '@marcusntheville',\n",
       " '@CardsGonePro',\n",
       " '@TheBigRedLouie',\n",
       " '@bob_getz',\n",
       " '@penrod_diane',\n",
       " '@jake0335',\n",
       " '@kjminor23',\n",
       " '@Matthew_Russe11']"
      ]
     },
     "execution_count": 3,
     "metadata": {},
     "output_type": "execute_result"
    }
   ],
   "source": [
    "#Gets the members of a twitter list I created from the API\n",
    "status = auth.GetListMembersPaged(1086381095229247490, count=5000)\n",
    "\n",
    "#Creates 10 random ints between 0 and the length of the list the data was pulled from\n",
    "#The .GetListMembersPaged method returns a tuple but all the data of interest is in [2]\n",
    "mems = np.random.randint(len(status[2]), size=10)\n",
    "\n",
    "#Creates an empty list to store the 10 random members we want\n",
    "users = []\n",
    "\n",
    "#loop to pull 10 random members from status and append them to our users list\n",
    "for mem in mems:\n",
    "    users.append('@' + status[2][mem].screen_name)\n",
    "    \n",
    "#Display our users list\n",
    "users"
   ]
  },
  {
   "cell_type": "code",
   "execution_count": 4,
   "metadata": {},
   "outputs": [
    {
     "data": {
      "text/plain": [
       "Status(ID=1235613761341476865, ScreenName=BuildTheFlockUL, Created=Thu Mar 05 17:10:51 +0000 2020, Text='#BTF random shoutouts of the day: @Aug26A @ATStrike4 @marcusntheville @CardsGonePro @TheBigRedLouie @bob_getz… https://t.co/xapZwmeABW')"
      ]
     },
     "execution_count": 4,
     "metadata": {},
     "output_type": "execute_result"
    }
   ],
   "source": [
    "#Creates the message to be tweeted\n",
    "message = '#BTF random shoutouts of the day: ' + ' '.join(users)\n",
    "\n",
    "#Post the message\n",
    "auth.PostUpdate(message)"
   ]
  },
  {
   "cell_type": "code",
   "execution_count": 13,
   "metadata": {},
   "outputs": [
    {
     "data": {
      "text/plain": [
       "['Biden',\n",
       " 'Bernie',\n",
       " '#WeAreJCPS',\n",
       " '#jcpsdigin',\n",
       " 'Rupp',\n",
       " 'POTUS',\n",
       " '#PitMad',\n",
       " '#ThursdayThoughts',\n",
       " 'First Take',\n",
       " '#loveisblindReunion']"
      ]
     },
     "execution_count": 13,
     "metadata": {},
     "output_type": "execute_result"
    }
   ],
   "source": [
    "#Gets all current trending topics for Louisville\n",
    "Trends = auth.GetTrendsWoeid(Louisville_WOE_ID)\n",
    "\n",
    "#Creates the number 0-9 in a list\n",
    "select = np.arange(10)\n",
    "\n",
    "#Creates an empty list for us to store the top 10 trending topics\n",
    "trend_list = []\n",
    "\n",
    "#Loop to get the top 10 trending topics and store them in trend_list\n",
    "for num in select:\n",
    "    trend_list.append(Trends[num].name)\n",
    "\n",
    "#Display trend_list\n",
    "trend_list"
   ]
  },
  {
   "cell_type": "code",
   "execution_count": 6,
   "metadata": {},
   "outputs": [
    {
     "data": {
      "text/plain": [
       "Status(ID=1235613762368999425, ScreenName=BuildTheFlockUL, Created=Thu Mar 05 17:10:52 +0000 2020, Text='Current top 10 trending in Louisville: Biden, Bernie, Warren, #WeAreJCPS, #jcpsdigin, Rupp, Democratic, POTUS, #ThankYouElizabeth, #PitMad')"
      ]
     },
     "execution_count": 6,
     "metadata": {},
     "output_type": "execute_result"
    }
   ],
   "source": [
    "#Creates our message to be tweeted\n",
    "trend_mes = \"Current top 10 trending in Louisville: \" + ', '.join(trend_list)\n",
    "\n",
    "#Tweets our message\n",
    "auth.PostUpdate(trend_mes)"
   ]
  },
  {
   "cell_type": "code",
   "execution_count": 16,
   "metadata": {},
   "outputs": [
    {
     "data": {
      "text/plain": [
       "[Trend(Name='#ThankYouElizabeth', Time=2020-03-05T17:24:00Z, URL=http://twitter.com/search?q=%23ThankYouElizabeth),\n",
       " Trend(Name='#CoronaVirusSA', Time=2020-03-05T17:24:00Z, URL=http://twitter.com/search?q=%23CoronaVirusSA),\n",
       " Trend(Name='#PitMad', Time=2020-03-05T17:24:00Z, URL=http://twitter.com/search?q=%23PitMad),\n",
       " Trend(Name='#somostodosgabrielmonteiro', Time=2020-03-05T17:24:00Z, URL=http://twitter.com/search?q=%23somostodosgabrielmonteiro),\n",
       " Trend(Name='#LCDP4', Time=2020-03-05T17:24:00Z, URL=http://twitter.com/search?q=%23LCDP4),\n",
       " Trend(Name='Ghost of Tsushima', Time=2020-03-05T17:24:00Z, URL=http://twitter.com/search?q=%22Ghost+of+Tsushima%22),\n",
       " Trend(Name='First Take', Time=2020-03-05T17:24:00Z, URL=http://twitter.com/search?q=%22First+Take%22),\n",
       " Trend(Name='Ayasaさん', Time=2020-03-05T17:24:00Z, URL=http://twitter.com/search?q=Ayasa%E3%81%95%E3%82%93),\n",
       " Trend(Name='#木村拓哉さん', Time=2020-03-05T17:24:00Z, URL=http://twitter.com/search?q=%23%E6%9C%A8%E6%9D%91%E6%8B%93%E5%93%89%E3%81%95%E3%82%93),\n",
       " Trend(Name='#منظر_الحرم', Time=2020-03-05T17:24:00Z, URL=http://twitter.com/search?q=%23%D9%85%D9%86%D8%B8%D8%B1_%D8%A7%D9%84%D8%AD%D8%B1%D9%85),\n",
       " Trend(Name='#MegaMarchaUniversitaria', Time=2020-03-05T17:24:00Z, URL=http://twitter.com/search?q=%23MegaMarchaUniversitaria),\n",
       " Trend(Name='#WorldBookDay', Time=2020-03-05T17:24:00Z, URL=http://twitter.com/search?q=%23WorldBookDay),\n",
       " Trend(Name='#الاتحاد_الحزم', Time=2020-03-05T17:24:00Z, URL=http://twitter.com/search?q=%23%D8%A7%D9%84%D8%A7%D8%AA%D8%AD%D8%A7%D8%AF_%D8%A7%D9%84%D8%AD%D8%B2%D9%85),\n",
       " Trend(Name='#YesBank', Time=2020-03-05T17:24:00Z, URL=http://twitter.com/search?q=%23YesBank),\n",
       " Trend(Name='#風神雷神お出迎え', Time=2020-03-05T17:24:00Z, URL=http://twitter.com/search?q=%23%E9%A2%A8%E7%A5%9E%E9%9B%B7%E7%A5%9E%E3%81%8A%E5%87%BA%E8%BF%8E%E3%81%88),\n",
       " Trend(Name='#風ちゃんおみくじ', Time=2020-03-05T17:24:00Z, URL=http://twitter.com/search?q=%23%E9%A2%A8%E3%81%A1%E3%82%83%E3%82%93%E3%81%8A%E3%81%BF%E3%81%8F%E3%81%98),\n",
       " Trend(Name='#Sarılırım', Time=2020-03-05T17:24:00Z, URL=http://twitter.com/search?q=%23Sar%C4%B1l%C4%B1r%C4%B1m),\n",
       " Trend(Name='#lauvxbts', Time=2020-03-05T17:24:00Z, URL=http://twitter.com/search?q=%23lauvxbts),\n",
       " Trend(Name='#Polislersekiz24istiyor', Time=2020-03-05T17:24:00Z, URL=http://twitter.com/search?q=%23Polislersekiz24istiyor),\n",
       " Trend(Name='#FelizJueves', Time=2020-03-05T17:24:00Z, URL=http://twitter.com/search?q=%23FelizJueves),\n",
       " Trend(Name='#WarrenToBernie', Time=2020-03-05T17:24:00Z, URL=http://twitter.com/search?q=%23WarrenToBernie),\n",
       " Trend(Name='#KonyaGelecek', Time=2020-03-05T17:24:00Z, URL=http://twitter.com/search?q=%23KonyaGelecek),\n",
       " Trend(Name='#LaCasaDePapel', Time=2020-03-05T17:24:00Z, URL=http://twitter.com/search?q=%23LaCasaDePapel),\n",
       " Trend(Name='#ThursdayThoughts', Time=2020-03-05T17:24:00Z, URL=http://twitter.com/search?q=%23ThursdayThoughts),\n",
       " Trend(Name='#loveisblindReunion', Time=2020-03-05T17:24:00Z, URL=http://twitter.com/search?q=%23loveisblindReunion),\n",
       " Trend(Name='#7TRACKBYTRACK', Time=2020-03-05T17:24:00Z, URL=http://twitter.com/search?q=%237TRACKBYTRACK),\n",
       " Trend(Name='#NCT127TheStage', Time=2020-03-05T17:24:00Z, URL=http://twitter.com/search?q=%23NCT127TheStage),\n",
       " Trend(Name='#低確率ぴえん', Time=2020-03-05T17:24:00Z, URL=http://twitter.com/search?q=%23%E4%BD%8E%E7%A2%BA%E7%8E%87%E3%81%B4%E3%81%88%E3%82%93),\n",
       " Trend(Name='#ILoveMeTONIGHT', Time=2020-03-05T17:24:00Z, URL=http://twitter.com/search?q=%23ILoveMeTONIGHT),\n",
       " Trend(Name='#ForaDaniel', Time=2020-03-05T17:24:00Z, URL=http://twitter.com/search?q=%23ForaDaniel),\n",
       " Trend(Name='#1YearWithChenTube', Time=2020-03-05T17:24:00Z, URL=http://twitter.com/search?q=%231YearWithChenTube),\n",
       " Trend(Name='#さ行でお前の純粋さを教えてやれ', Time=2020-03-05T17:24:00Z, URL=http://twitter.com/search?q=%23%E3%81%95%E8%A1%8C%E3%81%A7%E3%81%8A%E5%89%8D%E3%81%AE%E7%B4%94%E7%B2%8B%E3%81%95%E3%82%92%E6%95%99%E3%81%88%E3%81%A6%E3%82%84%E3%82%8C),\n",
       " Trend(Name='#PZvQG', Time=2020-03-05T17:24:00Z, URL=http://twitter.com/search?q=%23PZvQG),\n",
       " Trend(Name='#yarınımerakediyorum', Time=2020-03-05T17:24:00Z, URL=http://twitter.com/search?q=%23yar%C4%B1n%C4%B1merakediyorum),\n",
       " Trend(Name='#تتزوجين_ابن_عمك_او_احد_غريب', Time=2020-03-05T17:24:00Z, URL=http://twitter.com/search?q=%23%D8%AA%D8%AA%D8%B2%D9%88%D8%AC%D9%8A%D9%86_%D8%A7%D8%A8%D9%86_%D8%B9%D9%85%D9%83_%D8%A7%D9%88_%D8%A7%D8%AD%D8%AF_%D8%BA%D8%B1%D9%8A%D8%A8),\n",
       " Trend(Name='#최애_이름을_눈감고_3번써보자', Time=2020-03-05T17:24:00Z, URL=http://twitter.com/search?q=%23%EC%B5%9C%EC%95%A0_%EC%9D%B4%EB%A6%84%EC%9D%84_%EB%88%88%EA%B0%90%EA%B3%A0_3%EB%B2%88%EC%8D%A8%EB%B3%B4%EC%9E%90),\n",
       " Trend(Name='#تمديد_العطله', Time=2020-03-05T17:24:00Z, URL=http://twitter.com/search?q=%23%D8%AA%D9%85%D8%AF%D9%8A%D8%AF_%D8%A7%D9%84%D8%B9%D8%B7%D9%84%D9%87),\n",
       " Trend(Name='#YoVotéPorDuque', Time=2020-03-05T17:24:00Z, URL=http://twitter.com/search?q=%23YoVot%C3%A9PorDuque),\n",
       " Trend(Name='#malamjumat', Time=2020-03-05T17:24:00Z, URL=http://twitter.com/search?q=%23malamjumat),\n",
       " Trend(Name='#バンドリアニメ3rd_06', Time=2020-03-05T17:24:00Z, URL=http://twitter.com/search?q=%23%E3%83%90%E3%83%B3%E3%83%89%E3%83%AA%E3%82%A2%E3%83%8B%E3%83%A13rd_06),\n",
       " Trend(Name='#Neysee', Time=2020-03-05T17:24:00Z, URL=http://twitter.com/search?q=%23Neysee),\n",
       " Trend(Name='#MyDaySelcaDay', Time=2020-03-05T17:24:00Z, URL=http://twitter.com/search?q=%23MyDaySelcaDay),\n",
       " Trend(Name='#RubbishKumar', Time=2020-03-05T17:24:00Z, URL=http://twitter.com/search?q=%23RubbishKumar),\n",
       " Trend(Name='#SevenOrder', Time=2020-03-05T17:24:00Z, URL=http://twitter.com/search?q=%23SevenOrder),\n",
       " Trend(Name='#fansgofurther', Time=2020-03-05T17:24:00Z, URL=http://twitter.com/search?q=%23fansgofurther),\n",
       " Trend(Name='#مشاعل_انا_اسف_كثر_البعد_بينا', Time=2020-03-05T17:24:00Z, URL=http://twitter.com/search?q=%23%D9%85%D8%B4%D8%A7%D8%B9%D9%84_%D8%A7%D9%86%D8%A7_%D8%A7%D8%B3%D9%81_%D9%83%D8%AB%D8%B1_%D8%A7%D9%84%D8%A8%D8%B9%D8%AF_%D8%A8%D9%8A%D9%86%D8%A7),\n",
       " Trend(Name='#عبدالله_ابن_عون_قصر_المدرع', Time=2020-03-05T17:24:00Z, URL=http://twitter.com/search?q=%23%D8%B9%D8%A8%D8%AF%D8%A7%D9%84%D9%84%D9%87_%D8%A7%D8%A8%D9%86_%D8%B9%D9%88%D9%86_%D9%82%D8%B5%D8%B1_%D8%A7%D9%84%D9%85%D8%AF%D8%B1%D8%B9),\n",
       " Trend(Name='#شدن_الصعدي_جازان_المركز_الاول', Time=2020-03-05T17:24:00Z, URL=http://twitter.com/search?q=%23%D8%B4%D8%AF%D9%86_%D8%A7%D9%84%D8%B5%D8%B9%D8%AF%D9%8A_%D8%AC%D8%A7%D8%B2%D8%A7%D9%86_%D8%A7%D9%84%D9%85%D8%B1%D9%83%D8%B2_%D8%A7%D9%84%D8%A7%D9%88%D9%84),\n",
       " Trend(Name='#A7AñosDeTuSiembraComandante', Time=2020-03-05T17:24:00Z, URL=http://twitter.com/search?q=%23A7A%C3%B1osDeTuSiembraComandante),\n",
       " Trend(Name='#اكبر_طقطقه_في_التاريخ', Time=2020-03-05T17:24:00Z, URL=http://twitter.com/search?q=%23%D8%A7%D9%83%D8%A8%D8%B1_%D8%B7%D9%82%D8%B7%D9%82%D9%87_%D9%81%D9%8A_%D8%A7%D9%84%D8%AA%D8%A7%D8%B1%D9%8A%D8%AE)]"
      ]
     },
     "execution_count": 16,
     "metadata": {},
     "output_type": "execute_result"
    }
   ],
   "source": [
    "World_trends = auth.GetTrendsWoeid(1)\n",
    "\n",
    "def common(a, b):\n",
    "    c = [value for value in a if value in b]\n",
    "    return c\n",
    "\n",
    "trend_both = common(World_trends, Trends)\n",
    "\n",
    "com_trends = []\n",
    "\n",
    "for num in select:\n",
    "    if num < len(trend_both):\n",
    "        com_trends.append(trend_both[num].name)\n",
    "        \n",
    "common_message = \"These topics are trending both in Louisville and the World: \" + ' .'.join(com_trends)\n",
    "\n",
    "no_common = \"There are currently no topics trending both in Louisville and the World\"\n",
    "\n",
    "World_trends"
   ]
  },
  {
   "cell_type": "code",
   "execution_count": 17,
   "metadata": {},
   "outputs": [
    {
     "data": {
      "text/plain": [
       "[]"
      ]
     },
     "execution_count": 17,
     "metadata": {},
     "output_type": "execute_result"
    }
   ],
   "source": [
    "com_trends"
   ]
  },
  {
   "cell_type": "code",
   "execution_count": null,
   "metadata": {},
   "outputs": [],
   "source": [
    "if com_trends = []:\n",
    "    auth.PostUpdate(no_common)\n",
    "else:\n",
    "    auth.PostUpdate(common_message)"
   ]
  },
  {
   "cell_type": "code",
   "execution_count": 44,
   "metadata": {},
   "outputs": [
    {
     "data": {
      "text/plain": [
       "['RT @BuildTheFlockUL: #BTF random shoutouts of the day: @Aug26A @ATStrike4 @marcusntheville @CardsGonePro @TheBigRedLouie @bob_getz @penrod_…',\n",
       " '#BTF random shoutouts of the day: @Aug26A @ATStrike4 @marcusntheville @CardsGonePro @TheBigRedLouie @bob_getz… https://t.co/xapZwmeABW',\n",
       " \"RT @BuildTheFlockUL: These shoutouts are a random selection from my twitter list #BTF. If you'd like to be added to the pool to be in futur…\",\n",
       " '#TBThursday to 2014 when I lived in #Roatan as a professional beach bum and#scuba instructor.\\nThis Moray eel litera… https://t.co/uLKCfi4six',\n",
       " \"@BankToTheFuture @UpholdInc @Cointelegraph Nice to see you guys on CT. I haves9me #btf... I'll hold for another 20 years!  😎😇🙏 #hope\"]"
      ]
     },
     "execution_count": 44,
     "metadata": {},
     "output_type": "execute_result"
    }
   ],
   "source": [
    "search = auth.GetSearch(term='#BTF', result_type='recent')\n",
    "\n",
    "ab = []\n",
    "\n",
    "for blah in range(5):\n",
    "    ab.append(search[blah].text)\n",
    "    \n",
    "ab"
   ]
  },
  {
   "cell_type": "code",
   "execution_count": null,
   "metadata": {},
   "outputs": [],
   "source": []
  }
 ],
 "metadata": {
  "kernelspec": {
   "display_name": "Python 3",
   "language": "python",
   "name": "python3"
  },
  "language_info": {
   "codemirror_mode": {
    "name": "ipython",
    "version": 3
   },
   "file_extension": ".py",
   "mimetype": "text/x-python",
   "name": "python",
   "nbconvert_exporter": "python",
   "pygments_lexer": "ipython3",
   "version": "3.7.4"
  }
 },
 "nbformat": 4,
 "nbformat_minor": 2
}
