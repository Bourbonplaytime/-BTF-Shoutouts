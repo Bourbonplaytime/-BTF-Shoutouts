{
 "cells": [
  {
   "cell_type": "code",
   "execution_count": 1,
   "metadata": {},
   "outputs": [],
   "source": [
    "import twitter\n",
    "import numpy as np\n",
    "import random\n",
    "import time\n",
    "from twitter_keys import CONSUMER_KEY, CONSUMER_SECRET, ACCESS_TOKEN, ACCESS_SECRET, Louisville_WOE_ID"
   ]
  },
  {
   "cell_type": "code",
   "execution_count": 17,
   "metadata": {},
   "outputs": [],
   "source": [
    "#Creates a twitter API connection\n",
    "auth = twitter.Api(consumer_key=CONSUMER_KEY,\n",
    "                consumer_secret=CONSUMER_SECRET,\n",
    "                access_token_key=ACCESS_TOKEN,\n",
    "                access_token_secret=ACCESS_SECRET)"
   ]
  },
  {
   "cell_type": "code",
   "execution_count": 14,
   "metadata": {},
   "outputs": [
    {
     "data": {
      "text/plain": [
       "['@MikeSeaton15',\n",
       " '@4theville2',\n",
       " '@sleepycardfan',\n",
       " '@nocapmorgan',\n",
       " '@PHep32',\n",
       " '@Genghis_Card',\n",
       " '@BoomboxPoets',\n",
       " '@DrSteveGriffin1',\n",
       " '@Kelleyh37694705',\n",
       " '@brian_kays',\n",
       " '@GoCards23_Hume',\n",
       " '@Kevinlo34829567',\n",
       " '@Cardsbob1967',\n",
       " '@UofL_Heather',\n",
       " '@SamLjacson1',\n",
       " '@Blanton_Cory',\n",
       " '@JerryStepp',\n",
       " '@chris_hogan11',\n",
       " '@burunoff',\n",
       " '@debbiebeichler',\n",
       " '@corey6989',\n",
       " '@rwh11806',\n",
       " '@ErinWinebrenner',\n",
       " '@LouBestCity',\n",
       " '@TheBigRedLouie',\n",
       " '@a_ratfink',\n",
       " '@aalayahcross',\n",
       " '@El_Dog02',\n",
       " '@VilleBulldog',\n",
       " '@cdevon80',\n",
       " '@stratolounger',\n",
       " '@cnn77737',\n",
       " '@rbybee1',\n",
       " '@Bonefied108',\n",
       " '@jamiebasham30',\n",
       " '@CardCasey',\n",
       " '@Twommy',\n",
       " '@uljimmy',\n",
       " '@awallerballer2',\n",
       " '@UOFLFAN35',\n",
       " '@UofLFanBrian',\n",
       " '@wiggler81',\n",
       " '@wes_sandlin',\n",
       " '@EthridgeKen',\n",
       " '@CundiffGreg',\n",
       " '@Eye4cards',\n",
       " '@dreece02',\n",
       " '@hbpcards',\n",
       " '@Matthew_Russe11',\n",
       " '@Robfromthaville']"
      ]
     },
     "execution_count": 14,
     "metadata": {},
     "output_type": "execute_result"
    }
   ],
   "source": [
    "#Gets the members of a twitter list I created from the API\n",
    "status = auth.GetListMembersPaged(1086381095229247490, count=2500)\n",
    "\n",
    "#Creates 25 random ints between 0 and the length of the list the data was pulled from\n",
    "#The .GetListMembersPaged method returns a tuple but all the data of interest is in [2]\n",
    "mems = random.sample(range(0, len(status[2])), 50)\n",
    "\n",
    "#Creates an empty list to store the 50 random members we want\n",
    "users = []\n",
    "\n",
    "#loop to pull 50 random members from status and append them to our users list\n",
    "for mem in mems:\n",
    "    users.append('@' + status[2][mem].screen_name)\n",
    "    \n",
    "#Display our users list\n",
    "users"
   ]
  },
  {
   "cell_type": "code",
   "execution_count": 15,
   "metadata": {},
   "outputs": [
    {
     "name": "stdout",
     "output_type": "stream",
     "text": [
      "#BTF502 random shoutouts of the day: @MikeSeaton15 @4theville2 @sleepycardfan @nocapmorgan @PHep32 @Genghis_Card @BoomboxPoets @DrSteveGriffin1 @Kelleyh37694705 @brian_kays\n",
      "#BTF502 random shoutouts of the day: @GoCards23_Hume @Kevinlo34829567 @Cardsbob1967 @UofL_Heather @SamLjacson1 @Blanton_Cory @JerryStepp @chris_hogan11 @burunoff @debbiebeichler\n",
      "#BTF502 random shoutouts of the day: @corey6989 @rwh11806 @ErinWinebrenner @LouBestCity @TheBigRedLouie @a_ratfink @aalayahcross @El_Dog02 @VilleBulldog @cdevon80\n",
      "#BTF502 random shoutouts of the day: @stratolounger @cnn77737 @rbybee1 @Bonefied108 @jamiebasham30 @CardCasey @Twommy @uljimmy @awallerballer2 @UOFLFAN35\n",
      "#BTF502 random shoutouts of the day: @UofLFanBrian @wiggler81 @wes_sandlin @EthridgeKen @CundiffGreg @Eye4cards @dreece02 @hbpcards @Matthew_Russe11 @Robfromthaville\n"
     ]
    }
   ],
   "source": [
    "#Creates the messages to be tweeted\n",
    "\n",
    "for num in range(5):\n",
    "    message = '#BTF502 random shoutouts of the day: ' + ' '.join(users[num * 10:(num + 1) * 10])\n",
    "    auth.PostUpdate(message)\n",
    "    time.sleep(random.randint(10,30))"
   ]
  },
  {
   "cell_type": "code",
   "execution_count": 18,
   "metadata": {},
   "outputs": [
    {
     "data": {
      "text/plain": [
       "['#COVID2019',\n",
       " '#HealthyAtHome',\n",
       " '#TigerKing',\n",
       " 'Prayers',\n",
       " '#kyga20',\n",
       " 'Easter',\n",
       " '#FridayThoughts',\n",
       " 'Massie',\n",
       " 'Boris Johnson',\n",
       " 'Hoda']"
      ]
     },
     "execution_count": 18,
     "metadata": {},
     "output_type": "execute_result"
    }
   ],
   "source": [
    "#Gets all current trending topics for Louisville\n",
    "Trends = auth.GetTrendsWoeid(Louisville_WOE_ID)\n",
    "\n",
    "#Creates the number 0-9 in a list\n",
    "select = np.arange(10)\n",
    "\n",
    "#Creates an empty list for us to store the top 10 trending topics\n",
    "trend_list = []\n",
    "\n",
    "#Loop to get the top 10 trending topics and store them in trend_list\n",
    "for num in select:\n",
    "    trend_list.append(Trends[num].name)\n",
    "\n",
    "#Display trend_list\n",
    "trend_list"
   ]
  },
  {
   "cell_type": "code",
   "execution_count": 6,
   "metadata": {},
   "outputs": [
    {
     "data": {
      "text/plain": [
       "Status(ID=1243566015688122368, ScreenName=BuildTheFlockUL, Created=Fri Mar 27 15:50:17 +0000 2020, Text='Current top 10 trending in Louisville: #COVID2019, #HealthyAtHome, #TigerKing, Joe Exotic, Prayers, #kyga20, Easter… https://t.co/yAcGJFHn26')"
      ]
     },
     "execution_count": 6,
     "metadata": {},
     "output_type": "execute_result"
    }
   ],
   "source": [
    "#Creates our message to be tweeted\n",
    "trend_mes = \"Current top 10 trending in Louisville: \" + ', '.join(trend_list)\n",
    "\n",
    "#Tweets our message\n",
    "auth.PostUpdate(trend_mes)"
   ]
  },
  {
   "cell_type": "code",
   "execution_count": 19,
   "metadata": {},
   "outputs": [
    {
     "data": {
      "text/plain": [
       "[]"
      ]
     },
     "execution_count": 19,
     "metadata": {},
     "output_type": "execute_result"
    }
   ],
   "source": [
    "World_trends = auth.GetTrendsWoeid(1)\n",
    "\n",
    "def common(a, b):\n",
    "    c = [value for value in a if value in b]\n",
    "    return c\n",
    "\n",
    "trend_both = common(World_trends, Trends)\n",
    "\n",
    "trend_both"
   ]
  },
  {
   "cell_type": "code",
   "execution_count": null,
   "metadata": {},
   "outputs": [],
   "source": [
    "com_trends = []\n",
    "\n",
    "for num in select:\n",
    "    if num < len(trend_both):\n",
    "        com_trends.append(trend_both[num].name)\n",
    "        \n",
    "common_message = \"These topics are trending in both Louisville and the World: \" + ', '.join(com_trends)\n",
    "\n",
    "no_common = \"There are currently no topics trending both in Louisville and the World\""
   ]
  },
  {
   "cell_type": "code",
   "execution_count": 8,
   "metadata": {},
   "outputs": [
    {
     "data": {
      "text/plain": [
       "[]"
      ]
     },
     "execution_count": 8,
     "metadata": {},
     "output_type": "execute_result"
    }
   ],
   "source": [
    "com_trends"
   ]
  },
  {
   "cell_type": "code",
   "execution_count": 9,
   "metadata": {},
   "outputs": [],
   "source": [
    "if com_trends == []:\n",
    "    auth.PostUpdate(no_common)\n",
    "else:\n",
    "    auth.PostUpdate(common_message)"
   ]
  },
  {
   "cell_type": "code",
   "execution_count": null,
   "metadata": {},
   "outputs": [],
   "source": []
  }
 ],
 "metadata": {
  "kernelspec": {
   "display_name": "Python 3",
   "language": "python",
   "name": "python3"
  },
  "language_info": {
   "codemirror_mode": {
    "name": "ipython",
    "version": 3
   },
   "file_extension": ".py",
   "mimetype": "text/x-python",
   "name": "python",
   "nbconvert_exporter": "python",
   "pygments_lexer": "ipython3",
   "version": "3.7.4"
  }
 },
 "nbformat": 4,
 "nbformat_minor": 2
}
